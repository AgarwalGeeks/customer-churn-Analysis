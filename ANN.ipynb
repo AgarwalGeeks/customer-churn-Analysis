{
 "cells": [
  {
   "cell_type": "markdown",
   "metadata": {},
   "source": [
    "# Part 1- Data Preprocessing"
   ]
  },
  {
   "cell_type": "code",
   "execution_count": 1,
   "metadata": {
    "collapsed": true
   },
   "outputs": [],
   "source": [
    "# Importing Libraries\n",
    "import numpy as np\n",
    "import pandas as pd\n"
   ]
  },
  {
   "cell_type": "markdown",
   "metadata": {},
   "source": [
    "### Collecting Dataset "
   ]
  },
  {
   "cell_type": "code",
   "execution_count": 2,
   "metadata": {
    "collapsed": true
   },
   "outputs": [],
   "source": [
    "data=pd.read_csv(\"Churn_Modelling.csv\")"
   ]
  },
  {
   "cell_type": "code",
   "execution_count": 3,
   "metadata": {},
   "outputs": [
    {
     "name": "stdout",
     "output_type": "stream",
     "text": [
      "<class 'pandas.core.frame.DataFrame'>\n",
      "RangeIndex: 10000 entries, 0 to 9999\n",
      "Data columns (total 14 columns):\n",
      "RowNumber          10000 non-null int64\n",
      "CustomerId         10000 non-null int64\n",
      "Surname            10000 non-null object\n",
      "CreditScore        10000 non-null int64\n",
      "Geography          10000 non-null object\n",
      "Gender             10000 non-null object\n",
      "Age                10000 non-null int64\n",
      "Tenure             10000 non-null int64\n",
      "Balance            10000 non-null float64\n",
      "NumOfProducts      10000 non-null int64\n",
      "HasCrCard          10000 non-null int64\n",
      "IsActiveMember     10000 non-null int64\n",
      "EstimatedSalary    10000 non-null float64\n",
      "Exited             10000 non-null int64\n",
      "dtypes: float64(2), int64(9), object(3)\n",
      "memory usage: 1.1+ MB\n"
     ]
    }
   ],
   "source": [
    "# Info of Data\n",
    "data.info()"
   ]
  },
  {
   "cell_type": "code",
   "execution_count": 4,
   "metadata": {},
   "outputs": [
    {
     "data": {
      "text/html": [
       "<div>\n",
       "<style>\n",
       "    .dataframe thead tr:only-child th {\n",
       "        text-align: right;\n",
       "    }\n",
       "\n",
       "    .dataframe thead th {\n",
       "        text-align: left;\n",
       "    }\n",
       "\n",
       "    .dataframe tbody tr th {\n",
       "        vertical-align: top;\n",
       "    }\n",
       "</style>\n",
       "<table border=\"1\" class=\"dataframe\">\n",
       "  <thead>\n",
       "    <tr style=\"text-align: right;\">\n",
       "      <th></th>\n",
       "      <th>RowNumber</th>\n",
       "      <th>CustomerId</th>\n",
       "      <th>Surname</th>\n",
       "      <th>CreditScore</th>\n",
       "      <th>Geography</th>\n",
       "      <th>Gender</th>\n",
       "      <th>Age</th>\n",
       "      <th>Tenure</th>\n",
       "      <th>Balance</th>\n",
       "      <th>NumOfProducts</th>\n",
       "      <th>HasCrCard</th>\n",
       "      <th>IsActiveMember</th>\n",
       "      <th>EstimatedSalary</th>\n",
       "      <th>Exited</th>\n",
       "    </tr>\n",
       "  </thead>\n",
       "  <tbody>\n",
       "    <tr>\n",
       "      <th>0</th>\n",
       "      <td>1</td>\n",
       "      <td>15634602</td>\n",
       "      <td>Hargrave</td>\n",
       "      <td>619</td>\n",
       "      <td>France</td>\n",
       "      <td>Female</td>\n",
       "      <td>42</td>\n",
       "      <td>2</td>\n",
       "      <td>0.00</td>\n",
       "      <td>1</td>\n",
       "      <td>1</td>\n",
       "      <td>1</td>\n",
       "      <td>101348.88</td>\n",
       "      <td>1</td>\n",
       "    </tr>\n",
       "    <tr>\n",
       "      <th>1</th>\n",
       "      <td>2</td>\n",
       "      <td>15647311</td>\n",
       "      <td>Hill</td>\n",
       "      <td>608</td>\n",
       "      <td>Spain</td>\n",
       "      <td>Female</td>\n",
       "      <td>41</td>\n",
       "      <td>1</td>\n",
       "      <td>83807.86</td>\n",
       "      <td>1</td>\n",
       "      <td>0</td>\n",
       "      <td>1</td>\n",
       "      <td>112542.58</td>\n",
       "      <td>0</td>\n",
       "    </tr>\n",
       "    <tr>\n",
       "      <th>2</th>\n",
       "      <td>3</td>\n",
       "      <td>15619304</td>\n",
       "      <td>Onio</td>\n",
       "      <td>502</td>\n",
       "      <td>France</td>\n",
       "      <td>Female</td>\n",
       "      <td>42</td>\n",
       "      <td>8</td>\n",
       "      <td>159660.80</td>\n",
       "      <td>3</td>\n",
       "      <td>1</td>\n",
       "      <td>0</td>\n",
       "      <td>113931.57</td>\n",
       "      <td>1</td>\n",
       "    </tr>\n",
       "    <tr>\n",
       "      <th>3</th>\n",
       "      <td>4</td>\n",
       "      <td>15701354</td>\n",
       "      <td>Boni</td>\n",
       "      <td>699</td>\n",
       "      <td>France</td>\n",
       "      <td>Female</td>\n",
       "      <td>39</td>\n",
       "      <td>1</td>\n",
       "      <td>0.00</td>\n",
       "      <td>2</td>\n",
       "      <td>0</td>\n",
       "      <td>0</td>\n",
       "      <td>93826.63</td>\n",
       "      <td>0</td>\n",
       "    </tr>\n",
       "    <tr>\n",
       "      <th>4</th>\n",
       "      <td>5</td>\n",
       "      <td>15737888</td>\n",
       "      <td>Mitchell</td>\n",
       "      <td>850</td>\n",
       "      <td>Spain</td>\n",
       "      <td>Female</td>\n",
       "      <td>43</td>\n",
       "      <td>2</td>\n",
       "      <td>125510.82</td>\n",
       "      <td>1</td>\n",
       "      <td>1</td>\n",
       "      <td>1</td>\n",
       "      <td>79084.10</td>\n",
       "      <td>0</td>\n",
       "    </tr>\n",
       "    <tr>\n",
       "      <th>5</th>\n",
       "      <td>6</td>\n",
       "      <td>15574012</td>\n",
       "      <td>Chu</td>\n",
       "      <td>645</td>\n",
       "      <td>Spain</td>\n",
       "      <td>Male</td>\n",
       "      <td>44</td>\n",
       "      <td>8</td>\n",
       "      <td>113755.78</td>\n",
       "      <td>2</td>\n",
       "      <td>1</td>\n",
       "      <td>0</td>\n",
       "      <td>149756.71</td>\n",
       "      <td>1</td>\n",
       "    </tr>\n",
       "    <tr>\n",
       "      <th>6</th>\n",
       "      <td>7</td>\n",
       "      <td>15592531</td>\n",
       "      <td>Bartlett</td>\n",
       "      <td>822</td>\n",
       "      <td>France</td>\n",
       "      <td>Male</td>\n",
       "      <td>50</td>\n",
       "      <td>7</td>\n",
       "      <td>0.00</td>\n",
       "      <td>2</td>\n",
       "      <td>1</td>\n",
       "      <td>1</td>\n",
       "      <td>10062.80</td>\n",
       "      <td>0</td>\n",
       "    </tr>\n",
       "    <tr>\n",
       "      <th>7</th>\n",
       "      <td>8</td>\n",
       "      <td>15656148</td>\n",
       "      <td>Obinna</td>\n",
       "      <td>376</td>\n",
       "      <td>Germany</td>\n",
       "      <td>Female</td>\n",
       "      <td>29</td>\n",
       "      <td>4</td>\n",
       "      <td>115046.74</td>\n",
       "      <td>4</td>\n",
       "      <td>1</td>\n",
       "      <td>0</td>\n",
       "      <td>119346.88</td>\n",
       "      <td>1</td>\n",
       "    </tr>\n",
       "    <tr>\n",
       "      <th>8</th>\n",
       "      <td>9</td>\n",
       "      <td>15792365</td>\n",
       "      <td>He</td>\n",
       "      <td>501</td>\n",
       "      <td>France</td>\n",
       "      <td>Male</td>\n",
       "      <td>44</td>\n",
       "      <td>4</td>\n",
       "      <td>142051.07</td>\n",
       "      <td>2</td>\n",
       "      <td>0</td>\n",
       "      <td>1</td>\n",
       "      <td>74940.50</td>\n",
       "      <td>0</td>\n",
       "    </tr>\n",
       "    <tr>\n",
       "      <th>9</th>\n",
       "      <td>10</td>\n",
       "      <td>15592389</td>\n",
       "      <td>H?</td>\n",
       "      <td>684</td>\n",
       "      <td>France</td>\n",
       "      <td>Male</td>\n",
       "      <td>27</td>\n",
       "      <td>2</td>\n",
       "      <td>134603.88</td>\n",
       "      <td>1</td>\n",
       "      <td>1</td>\n",
       "      <td>1</td>\n",
       "      <td>71725.73</td>\n",
       "      <td>0</td>\n",
       "    </tr>\n",
       "  </tbody>\n",
       "</table>\n",
       "</div>"
      ],
      "text/plain": [
       "   RowNumber  CustomerId   Surname  CreditScore Geography  Gender  Age  \\\n",
       "0          1    15634602  Hargrave          619    France  Female   42   \n",
       "1          2    15647311      Hill          608     Spain  Female   41   \n",
       "2          3    15619304      Onio          502    France  Female   42   \n",
       "3          4    15701354      Boni          699    France  Female   39   \n",
       "4          5    15737888  Mitchell          850     Spain  Female   43   \n",
       "5          6    15574012       Chu          645     Spain    Male   44   \n",
       "6          7    15592531  Bartlett          822    France    Male   50   \n",
       "7          8    15656148    Obinna          376   Germany  Female   29   \n",
       "8          9    15792365        He          501    France    Male   44   \n",
       "9         10    15592389        H?          684    France    Male   27   \n",
       "\n",
       "   Tenure    Balance  NumOfProducts  HasCrCard  IsActiveMember  \\\n",
       "0       2       0.00              1          1               1   \n",
       "1       1   83807.86              1          0               1   \n",
       "2       8  159660.80              3          1               0   \n",
       "3       1       0.00              2          0               0   \n",
       "4       2  125510.82              1          1               1   \n",
       "5       8  113755.78              2          1               0   \n",
       "6       7       0.00              2          1               1   \n",
       "7       4  115046.74              4          1               0   \n",
       "8       4  142051.07              2          0               1   \n",
       "9       2  134603.88              1          1               1   \n",
       "\n",
       "   EstimatedSalary  Exited  \n",
       "0        101348.88       1  \n",
       "1        112542.58       0  \n",
       "2        113931.57       1  \n",
       "3         93826.63       0  \n",
       "4         79084.10       0  \n",
       "5        149756.71       1  \n",
       "6         10062.80       0  \n",
       "7        119346.88       1  \n",
       "8         74940.50       0  \n",
       "9         71725.73       0  "
      ]
     },
     "execution_count": 4,
     "metadata": {},
     "output_type": "execute_result"
    }
   ],
   "source": [
    "# Looking at the data insight\n",
    "data.head(10)"
   ]
  },
  {
   "cell_type": "markdown",
   "metadata": {},
   "source": [
    "## Preparing Data "
   ]
  },
  {
   "cell_type": "code",
   "execution_count": 5,
   "metadata": {
    "collapsed": true
   },
   "outputs": [],
   "source": [
    "# X contains all features\n",
    "X=data.iloc[:,3:-1]\n",
    "# Y contains Labels\n",
    "Y=data.iloc[:,-1]"
   ]
  },
  {
   "cell_type": "code",
   "execution_count": 6,
   "metadata": {},
   "outputs": [
    {
     "data": {
      "text/plain": [
       "0     1\n",
       "1     0\n",
       "2     1\n",
       "3     0\n",
       "4     0\n",
       "5     1\n",
       "6     0\n",
       "7     1\n",
       "8     0\n",
       "9     0\n",
       "10    0\n",
       "Name: Exited, dtype: int64"
      ]
     },
     "execution_count": 6,
     "metadata": {},
     "output_type": "execute_result"
    }
   ],
   "source": [
    "Y[:11]"
   ]
  },
  {
   "cell_type": "code",
   "execution_count": 7,
   "metadata": {},
   "outputs": [
    {
     "data": {
      "text/html": [
       "<div>\n",
       "<style>\n",
       "    .dataframe thead tr:only-child th {\n",
       "        text-align: right;\n",
       "    }\n",
       "\n",
       "    .dataframe thead th {\n",
       "        text-align: left;\n",
       "    }\n",
       "\n",
       "    .dataframe tbody tr th {\n",
       "        vertical-align: top;\n",
       "    }\n",
       "</style>\n",
       "<table border=\"1\" class=\"dataframe\">\n",
       "  <thead>\n",
       "    <tr style=\"text-align: right;\">\n",
       "      <th></th>\n",
       "      <th>CreditScore</th>\n",
       "      <th>Geography</th>\n",
       "      <th>Gender</th>\n",
       "      <th>Age</th>\n",
       "      <th>Tenure</th>\n",
       "      <th>Balance</th>\n",
       "      <th>NumOfProducts</th>\n",
       "      <th>HasCrCard</th>\n",
       "      <th>IsActiveMember</th>\n",
       "      <th>EstimatedSalary</th>\n",
       "    </tr>\n",
       "  </thead>\n",
       "  <tbody>\n",
       "    <tr>\n",
       "      <th>0</th>\n",
       "      <td>619</td>\n",
       "      <td>France</td>\n",
       "      <td>Female</td>\n",
       "      <td>42</td>\n",
       "      <td>2</td>\n",
       "      <td>0.00</td>\n",
       "      <td>1</td>\n",
       "      <td>1</td>\n",
       "      <td>1</td>\n",
       "      <td>101348.88</td>\n",
       "    </tr>\n",
       "    <tr>\n",
       "      <th>1</th>\n",
       "      <td>608</td>\n",
       "      <td>Spain</td>\n",
       "      <td>Female</td>\n",
       "      <td>41</td>\n",
       "      <td>1</td>\n",
       "      <td>83807.86</td>\n",
       "      <td>1</td>\n",
       "      <td>0</td>\n",
       "      <td>1</td>\n",
       "      <td>112542.58</td>\n",
       "    </tr>\n",
       "    <tr>\n",
       "      <th>2</th>\n",
       "      <td>502</td>\n",
       "      <td>France</td>\n",
       "      <td>Female</td>\n",
       "      <td>42</td>\n",
       "      <td>8</td>\n",
       "      <td>159660.80</td>\n",
       "      <td>3</td>\n",
       "      <td>1</td>\n",
       "      <td>0</td>\n",
       "      <td>113931.57</td>\n",
       "    </tr>\n",
       "    <tr>\n",
       "      <th>3</th>\n",
       "      <td>699</td>\n",
       "      <td>France</td>\n",
       "      <td>Female</td>\n",
       "      <td>39</td>\n",
       "      <td>1</td>\n",
       "      <td>0.00</td>\n",
       "      <td>2</td>\n",
       "      <td>0</td>\n",
       "      <td>0</td>\n",
       "      <td>93826.63</td>\n",
       "    </tr>\n",
       "    <tr>\n",
       "      <th>4</th>\n",
       "      <td>850</td>\n",
       "      <td>Spain</td>\n",
       "      <td>Female</td>\n",
       "      <td>43</td>\n",
       "      <td>2</td>\n",
       "      <td>125510.82</td>\n",
       "      <td>1</td>\n",
       "      <td>1</td>\n",
       "      <td>1</td>\n",
       "      <td>79084.10</td>\n",
       "    </tr>\n",
       "    <tr>\n",
       "      <th>5</th>\n",
       "      <td>645</td>\n",
       "      <td>Spain</td>\n",
       "      <td>Male</td>\n",
       "      <td>44</td>\n",
       "      <td>8</td>\n",
       "      <td>113755.78</td>\n",
       "      <td>2</td>\n",
       "      <td>1</td>\n",
       "      <td>0</td>\n",
       "      <td>149756.71</td>\n",
       "    </tr>\n",
       "    <tr>\n",
       "      <th>6</th>\n",
       "      <td>822</td>\n",
       "      <td>France</td>\n",
       "      <td>Male</td>\n",
       "      <td>50</td>\n",
       "      <td>7</td>\n",
       "      <td>0.00</td>\n",
       "      <td>2</td>\n",
       "      <td>1</td>\n",
       "      <td>1</td>\n",
       "      <td>10062.80</td>\n",
       "    </tr>\n",
       "    <tr>\n",
       "      <th>7</th>\n",
       "      <td>376</td>\n",
       "      <td>Germany</td>\n",
       "      <td>Female</td>\n",
       "      <td>29</td>\n",
       "      <td>4</td>\n",
       "      <td>115046.74</td>\n",
       "      <td>4</td>\n",
       "      <td>1</td>\n",
       "      <td>0</td>\n",
       "      <td>119346.88</td>\n",
       "    </tr>\n",
       "    <tr>\n",
       "      <th>8</th>\n",
       "      <td>501</td>\n",
       "      <td>France</td>\n",
       "      <td>Male</td>\n",
       "      <td>44</td>\n",
       "      <td>4</td>\n",
       "      <td>142051.07</td>\n",
       "      <td>2</td>\n",
       "      <td>0</td>\n",
       "      <td>1</td>\n",
       "      <td>74940.50</td>\n",
       "    </tr>\n",
       "    <tr>\n",
       "      <th>9</th>\n",
       "      <td>684</td>\n",
       "      <td>France</td>\n",
       "      <td>Male</td>\n",
       "      <td>27</td>\n",
       "      <td>2</td>\n",
       "      <td>134603.88</td>\n",
       "      <td>1</td>\n",
       "      <td>1</td>\n",
       "      <td>1</td>\n",
       "      <td>71725.73</td>\n",
       "    </tr>\n",
       "    <tr>\n",
       "      <th>10</th>\n",
       "      <td>528</td>\n",
       "      <td>France</td>\n",
       "      <td>Male</td>\n",
       "      <td>31</td>\n",
       "      <td>6</td>\n",
       "      <td>102016.72</td>\n",
       "      <td>2</td>\n",
       "      <td>0</td>\n",
       "      <td>0</td>\n",
       "      <td>80181.12</td>\n",
       "    </tr>\n",
       "  </tbody>\n",
       "</table>\n",
       "</div>"
      ],
      "text/plain": [
       "    CreditScore Geography  Gender  Age  Tenure    Balance  NumOfProducts  \\\n",
       "0           619    France  Female   42       2       0.00              1   \n",
       "1           608     Spain  Female   41       1   83807.86              1   \n",
       "2           502    France  Female   42       8  159660.80              3   \n",
       "3           699    France  Female   39       1       0.00              2   \n",
       "4           850     Spain  Female   43       2  125510.82              1   \n",
       "5           645     Spain    Male   44       8  113755.78              2   \n",
       "6           822    France    Male   50       7       0.00              2   \n",
       "7           376   Germany  Female   29       4  115046.74              4   \n",
       "8           501    France    Male   44       4  142051.07              2   \n",
       "9           684    France    Male   27       2  134603.88              1   \n",
       "10          528    France    Male   31       6  102016.72              2   \n",
       "\n",
       "    HasCrCard  IsActiveMember  EstimatedSalary  \n",
       "0           1               1        101348.88  \n",
       "1           0               1        112542.58  \n",
       "2           1               0        113931.57  \n",
       "3           0               0         93826.63  \n",
       "4           1               1         79084.10  \n",
       "5           1               0        149756.71  \n",
       "6           1               1         10062.80  \n",
       "7           1               0        119346.88  \n",
       "8           0               1         74940.50  \n",
       "9           1               1         71725.73  \n",
       "10          0               0         80181.12  "
      ]
     },
     "execution_count": 7,
     "metadata": {},
     "output_type": "execute_result"
    }
   ],
   "source": [
    "X[:11]"
   ]
  },
  {
   "cell_type": "markdown",
   "metadata": {},
   "source": [
    "## Preprocessing Categorical data"
   ]
  },
  {
   "cell_type": "code",
   "execution_count": 8,
   "metadata": {
    "collapsed": true
   },
   "outputs": [],
   "source": [
    "from sklearn.preprocessing import LabelEncoder\n",
    "Label_encoder_1=LabelEncoder()\n",
    "X.iloc[:,1]=Label_encoder_1.fit_transform(X.iloc[:,1])\n",
    "Label_encoder_2=LabelEncoder()\n",
    "X.iloc[:,2]=Label_encoder_2.fit_transform(X.iloc[:,2])"
   ]
  },
  {
   "cell_type": "code",
   "execution_count": 9,
   "metadata": {},
   "outputs": [
    {
     "data": {
      "text/html": [
       "<div>\n",
       "<style>\n",
       "    .dataframe thead tr:only-child th {\n",
       "        text-align: right;\n",
       "    }\n",
       "\n",
       "    .dataframe thead th {\n",
       "        text-align: left;\n",
       "    }\n",
       "\n",
       "    .dataframe tbody tr th {\n",
       "        vertical-align: top;\n",
       "    }\n",
       "</style>\n",
       "<table border=\"1\" class=\"dataframe\">\n",
       "  <thead>\n",
       "    <tr style=\"text-align: right;\">\n",
       "      <th></th>\n",
       "      <th>CreditScore</th>\n",
       "      <th>Geography</th>\n",
       "      <th>Gender</th>\n",
       "      <th>Age</th>\n",
       "      <th>Tenure</th>\n",
       "      <th>Balance</th>\n",
       "      <th>NumOfProducts</th>\n",
       "      <th>HasCrCard</th>\n",
       "      <th>IsActiveMember</th>\n",
       "      <th>EstimatedSalary</th>\n",
       "    </tr>\n",
       "  </thead>\n",
       "  <tbody>\n",
       "    <tr>\n",
       "      <th>0</th>\n",
       "      <td>619</td>\n",
       "      <td>0</td>\n",
       "      <td>0</td>\n",
       "      <td>42</td>\n",
       "      <td>2</td>\n",
       "      <td>0.00</td>\n",
       "      <td>1</td>\n",
       "      <td>1</td>\n",
       "      <td>1</td>\n",
       "      <td>101348.88</td>\n",
       "    </tr>\n",
       "    <tr>\n",
       "      <th>1</th>\n",
       "      <td>608</td>\n",
       "      <td>2</td>\n",
       "      <td>0</td>\n",
       "      <td>41</td>\n",
       "      <td>1</td>\n",
       "      <td>83807.86</td>\n",
       "      <td>1</td>\n",
       "      <td>0</td>\n",
       "      <td>1</td>\n",
       "      <td>112542.58</td>\n",
       "    </tr>\n",
       "    <tr>\n",
       "      <th>2</th>\n",
       "      <td>502</td>\n",
       "      <td>0</td>\n",
       "      <td>0</td>\n",
       "      <td>42</td>\n",
       "      <td>8</td>\n",
       "      <td>159660.80</td>\n",
       "      <td>3</td>\n",
       "      <td>1</td>\n",
       "      <td>0</td>\n",
       "      <td>113931.57</td>\n",
       "    </tr>\n",
       "    <tr>\n",
       "      <th>3</th>\n",
       "      <td>699</td>\n",
       "      <td>0</td>\n",
       "      <td>0</td>\n",
       "      <td>39</td>\n",
       "      <td>1</td>\n",
       "      <td>0.00</td>\n",
       "      <td>2</td>\n",
       "      <td>0</td>\n",
       "      <td>0</td>\n",
       "      <td>93826.63</td>\n",
       "    </tr>\n",
       "    <tr>\n",
       "      <th>4</th>\n",
       "      <td>850</td>\n",
       "      <td>2</td>\n",
       "      <td>0</td>\n",
       "      <td>43</td>\n",
       "      <td>2</td>\n",
       "      <td>125510.82</td>\n",
       "      <td>1</td>\n",
       "      <td>1</td>\n",
       "      <td>1</td>\n",
       "      <td>79084.10</td>\n",
       "    </tr>\n",
       "  </tbody>\n",
       "</table>\n",
       "</div>"
      ],
      "text/plain": [
       "   CreditScore  Geography  Gender  Age  Tenure    Balance  NumOfProducts  \\\n",
       "0          619          0       0   42       2       0.00              1   \n",
       "1          608          2       0   41       1   83807.86              1   \n",
       "2          502          0       0   42       8  159660.80              3   \n",
       "3          699          0       0   39       1       0.00              2   \n",
       "4          850          2       0   43       2  125510.82              1   \n",
       "\n",
       "   HasCrCard  IsActiveMember  EstimatedSalary  \n",
       "0          1               1        101348.88  \n",
       "1          0               1        112542.58  \n",
       "2          1               0        113931.57  \n",
       "3          0               0         93826.63  \n",
       "4          1               1         79084.10  "
      ]
     },
     "execution_count": 9,
     "metadata": {},
     "output_type": "execute_result"
    }
   ],
   "source": [
    "X[:5]"
   ]
  },
  {
   "cell_type": "code",
   "execution_count": 10,
   "metadata": {
    "collapsed": true
   },
   "outputs": [],
   "source": [
    "# one hot encoding\n",
    "from sklearn.preprocessing import OneHotEncoder\n",
    "onehotencoder = OneHotEncoder(categorical_features = [1])\n",
    "X = onehotencoder.fit_transform(X).toarray()\n",
    "X = X[:, 1:]\n"
   ]
  },
  {
   "cell_type": "markdown",
   "metadata": {},
   "source": [
    "## Splitting Data into training and testing data"
   ]
  },
  {
   "cell_type": "code",
   "execution_count": 11,
   "metadata": {},
   "outputs": [
    {
     "name": "stderr",
     "output_type": "stream",
     "text": [
      "E:\\Anaconda\\lib\\site-packages\\sklearn\\cross_validation.py:41: DeprecationWarning: This module was deprecated in version 0.18 in favor of the model_selection module into which all the refactored classes and functions are moved. Also note that the interface of the new CV iterators are different from that of this module. This module will be removed in 0.20.\n",
      "  \"This module will be removed in 0.20.\", DeprecationWarning)\n"
     ]
    }
   ],
   "source": [
    "# X_train,Y_train for training and X_test and Y_test for testing the data \n",
    "from sklearn.cross_validation import train_test_split\n",
    "X_train,X_test,Y_train,Y_test=train_test_split(X,Y,test_size=0.20,random_state=0)"
   ]
  },
  {
   "cell_type": "markdown",
   "metadata": {},
   "source": [
    "### Feature scaling"
   ]
  },
  {
   "cell_type": "code",
   "execution_count": 12,
   "metadata": {
    "collapsed": true
   },
   "outputs": [],
   "source": [
    "#scaling features\n",
    "from sklearn.preprocessing import StandardScaler\n",
    "sc=StandardScaler()\n",
    "X_train=sc.fit_transform(X_train)\n",
    "\n",
    "X_test=sc.transform(X_test)"
   ]
  },
  {
   "cell_type": "markdown",
   "metadata": {},
   "source": [
    "# Part 2 - Making DNN Model"
   ]
  },
  {
   "cell_type": "code",
   "execution_count": 13,
   "metadata": {},
   "outputs": [
    {
     "name": "stderr",
     "output_type": "stream",
     "text": [
      "E:\\Anaconda\\lib\\site-packages\\h5py\\__init__.py:34: FutureWarning: Conversion of the second argument of issubdtype from `float` to `np.floating` is deprecated. In future, it will be treated as `np.float64 == np.dtype(float).type`.\n",
      "  from ._conv import register_converters as _register_converters\n",
      "Using TensorFlow backend.\n"
     ]
    }
   ],
   "source": [
    "# Import keras library for DNN\n",
    "import keras\n",
    "from keras.models import Sequential\n",
    "from keras.layers import Dense"
   ]
  },
  {
   "cell_type": "code",
   "execution_count": 14,
   "metadata": {
    "collapsed": true
   },
   "outputs": [],
   "source": [
    "# Initializing DNN\n",
    "classifier=Sequential()"
   ]
  },
  {
   "cell_type": "code",
   "execution_count": 15,
   "metadata": {},
   "outputs": [
    {
     "name": "stderr",
     "output_type": "stream",
     "text": [
      "E:\\Anaconda\\lib\\site-packages\\ipykernel_launcher.py:5: UserWarning: Update your `Dropout` call to the Keras 2 API: `Dropout(rate=0.1)`\n",
      "  \"\"\"\n",
      "E:\\Anaconda\\lib\\site-packages\\ipykernel_launcher.py:8: UserWarning: Update your `Dropout` call to the Keras 2 API: `Dropout(rate=0.1)`\n",
      "  \n"
     ]
    }
   ],
   "source": [
    "from keras.layers import Dropout\n",
    "# Adding layers to DNN\n",
    "# First hidden layer and input layer with Dropout\n",
    "classifier.add(Dense(units=6,kernel_initializer='uniform',activation='relu',input_dim=11))\n",
    "classifier.add(Dropout(p=0.1))\n",
    "# Second hidden layer\n",
    "classifier.add(Dense(units=6,kernel_initializer='uniform',activation='relu'))\n",
    "classifier.add(Dropout(p=0.1))\n",
    "# output layer\n",
    "classifier.add(Dense(units=1,kernel_initializer='uniform',activation='sigmoid'))"
   ]
  },
  {
   "cell_type": "code",
   "execution_count": 16,
   "metadata": {
    "collapsed": true
   },
   "outputs": [],
   "source": [
    "# compiling DNN\n",
    "classifier.compile(optimizer='adam',loss='binary_crossentropy',metrics=['accuracy'])"
   ]
  },
  {
   "cell_type": "code",
   "execution_count": 17,
   "metadata": {},
   "outputs": [
    {
     "name": "stdout",
     "output_type": "stream",
     "text": [
      "Epoch 1/100\n",
      "8000/8000 [==============================] - 4s 559us/step - loss: 0.5002 - acc: 0.7956\n",
      "Epoch 2/100\n",
      "8000/8000 [==============================] - 4s 454us/step - loss: 0.4390 - acc: 0.7960\n",
      "Epoch 3/100\n",
      "8000/8000 [==============================] - 3s 346us/step - loss: 0.4346 - acc: 0.7960\n",
      "Epoch 4/100\n",
      "8000/8000 [==============================] - 3s 319us/step - loss: 0.4359 - acc: 0.7960\n",
      "Epoch 5/100\n",
      "8000/8000 [==============================] - 3s 378us/step - loss: 0.4303 - acc: 0.7960\n",
      "Epoch 6/100\n",
      "8000/8000 [==============================] - 3s 323us/step - loss: 0.4307 - acc: 0.7960\n",
      "Epoch 7/100\n",
      "8000/8000 [==============================] - 3s 314us/step - loss: 0.4265 - acc: 0.7960\n",
      "Epoch 8/100\n",
      "8000/8000 [==============================] - 2s 307us/step - loss: 0.4300 - acc: 0.8000\n",
      "Epoch 9/100\n",
      "8000/8000 [==============================] - 3s 319us/step - loss: 0.4304 - acc: 0.8164\n",
      "Epoch 10/100\n",
      "8000/8000 [==============================] - 3s 408us/step - loss: 0.4279 - acc: 0.8207 0s - loss: 0.4240 - acc:\n",
      "Epoch 11/100\n",
      "8000/8000 [==============================] - 3s 373us/step - loss: 0.4294 - acc: 0.8185\n",
      "Epoch 12/100\n",
      "8000/8000 [==============================] - 3s 333us/step - loss: 0.4287 - acc: 0.8251\n",
      "Epoch 13/100\n",
      "8000/8000 [==============================] - 3s 363us/step - loss: 0.4250 - acc: 0.8244\n",
      "Epoch 14/100\n",
      "8000/8000 [==============================] - 3s 325us/step - loss: 0.4289 - acc: 0.8275\n",
      "Epoch 15/100\n",
      "8000/8000 [==============================] - 3s 325us/step - loss: 0.4279 - acc: 0.8245\n",
      "Epoch 16/100\n",
      "8000/8000 [==============================] - 3s 338us/step - loss: 0.4281 - acc: 0.8230\n",
      "Epoch 17/100\n",
      "8000/8000 [==============================] - 3s 415us/step - loss: 0.4259 - acc: 0.8252\n",
      "Epoch 18/100\n",
      "8000/8000 [==============================] - 3s 413us/step - loss: 0.4268 - acc: 0.8256\n",
      "Epoch 19/100\n",
      "8000/8000 [==============================] - 3s 362us/step - loss: 0.4282 - acc: 0.8255\n",
      "Epoch 20/100\n",
      "8000/8000 [==============================] - 3s 362us/step - loss: 0.4261 - acc: 0.8247\n",
      "Epoch 21/100\n",
      "8000/8000 [==============================] - 3s 422us/step - loss: 0.4250 - acc: 0.8282\n",
      "Epoch 22/100\n",
      "8000/8000 [==============================] - 4s 455us/step - loss: 0.4273 - acc: 0.8272\n",
      "Epoch 23/100\n",
      "8000/8000 [==============================] - 3s 381us/step - loss: 0.4269 - acc: 0.8259\n",
      "Epoch 24/100\n",
      "8000/8000 [==============================] - 3s 338us/step - loss: 0.4270 - acc: 0.8266\n",
      "Epoch 25/100\n",
      "8000/8000 [==============================] - 3s 333us/step - loss: 0.4246 - acc: 0.8277\n",
      "Epoch 26/100\n",
      "8000/8000 [==============================] - 3s 344us/step - loss: 0.4281 - acc: 0.8266\n",
      "Epoch 27/100\n",
      "8000/8000 [==============================] - 3s 327us/step - loss: 0.4293 - acc: 0.8261\n",
      "Epoch 28/100\n",
      "8000/8000 [==============================] - 3s 337us/step - loss: 0.4259 - acc: 0.8244\n",
      "Epoch 29/100\n",
      "8000/8000 [==============================] - 3s 333us/step - loss: 0.4320 - acc: 0.8265\n",
      "Epoch 30/100\n",
      "8000/8000 [==============================] - 3s 315us/step - loss: 0.4244 - acc: 0.8267\n",
      "Epoch 31/100\n",
      "8000/8000 [==============================] - 2s 307us/step - loss: 0.4243 - acc: 0.8280\n",
      "Epoch 32/100\n",
      "8000/8000 [==============================] - 3s 324us/step - loss: 0.4254 - acc: 0.8275\n",
      "Epoch 33/100\n",
      "8000/8000 [==============================] - 3s 340us/step - loss: 0.4263 - acc: 0.8294\n",
      "Epoch 34/100\n",
      "8000/8000 [==============================] - 3s 332us/step - loss: 0.4248 - acc: 0.8262\n",
      "Epoch 35/100\n",
      "8000/8000 [==============================] - 3s 321us/step - loss: 0.4284 - acc: 0.8280\n",
      "Epoch 36/100\n",
      "8000/8000 [==============================] - 3s 350us/step - loss: 0.4291 - acc: 0.8280\n",
      "Epoch 37/100\n",
      "8000/8000 [==============================] - 3s 353us/step - loss: 0.4249 - acc: 0.8285\n",
      "Epoch 38/100\n",
      "8000/8000 [==============================] - 3s 361us/step - loss: 0.4286 - acc: 0.8287\n",
      "Epoch 39/100\n",
      "8000/8000 [==============================] - 3s 349us/step - loss: 0.4267 - acc: 0.8297\n",
      "Epoch 40/100\n",
      "8000/8000 [==============================] - 3s 356us/step - loss: 0.4284 - acc: 0.8272\n",
      "Epoch 41/100\n",
      "8000/8000 [==============================] - 3s 341us/step - loss: 0.4259 - acc: 0.8271\n",
      "Epoch 42/100\n",
      "8000/8000 [==============================] - 3s 322us/step - loss: 0.4233 - acc: 0.8292\n",
      "Epoch 43/100\n",
      "8000/8000 [==============================] - 3s 329us/step - loss: 0.4236 - acc: 0.8280\n",
      "Epoch 44/100\n",
      "8000/8000 [==============================] - 3s 324us/step - loss: 0.4208 - acc: 0.8310\n",
      "Epoch 45/100\n",
      "8000/8000 [==============================] - 3s 345us/step - loss: 0.4260 - acc: 0.8291\n",
      "Epoch 46/100\n",
      "8000/8000 [==============================] - 3s 326us/step - loss: 0.4235 - acc: 0.8292\n",
      "Epoch 47/100\n",
      "8000/8000 [==============================] - 3s 424us/step - loss: 0.4268 - acc: 0.8277\n",
      "Epoch 48/100\n",
      "8000/8000 [==============================] - 3s 347us/step - loss: 0.4258 - acc: 0.8287\n",
      "Epoch 49/100\n",
      "8000/8000 [==============================] - 3s 342us/step - loss: 0.4254 - acc: 0.8290\n",
      "Epoch 50/100\n",
      "8000/8000 [==============================] - 3s 342us/step - loss: 0.4233 - acc: 0.8299\n",
      "Epoch 51/100\n",
      "8000/8000 [==============================] - 3s 327us/step - loss: 0.4246 - acc: 0.8281\n",
      "Epoch 52/100\n",
      "8000/8000 [==============================] - 3s 323us/step - loss: 0.4243 - acc: 0.8296\n",
      "Epoch 53/100\n",
      "8000/8000 [==============================] - 3s 332us/step - loss: 0.4234 - acc: 0.8307\n",
      "Epoch 54/100\n",
      "8000/8000 [==============================] - 3s 334us/step - loss: 0.4242 - acc: 0.8286\n",
      "Epoch 55/100\n",
      "8000/8000 [==============================] - 3s 336us/step - loss: 0.4253 - acc: 0.8277\n",
      "Epoch 56/100\n",
      "8000/8000 [==============================] - 3s 361us/step - loss: 0.4263 - acc: 0.8260\n",
      "Epoch 57/100\n",
      "8000/8000 [==============================] - 3s 362us/step - loss: 0.4225 - acc: 0.8289\n",
      "Epoch 58/100\n",
      "8000/8000 [==============================] - 3s 359us/step - loss: 0.4240 - acc: 0.8319\n",
      "Epoch 59/100\n",
      "8000/8000 [==============================] - 3s 359us/step - loss: 0.4237 - acc: 0.8272\n",
      "Epoch 60/100\n",
      "8000/8000 [==============================] - 3s 341us/step - loss: 0.4277 - acc: 0.8291\n",
      "Epoch 61/100\n",
      "8000/8000 [==============================] - 3s 328us/step - loss: 0.4224 - acc: 0.8275\n",
      "Epoch 62/100\n",
      "8000/8000 [==============================] - 3s 347us/step - loss: 0.4228 - acc: 0.8287\n",
      "Epoch 63/100\n",
      "8000/8000 [==============================] - 3s 335us/step - loss: 0.4234 - acc: 0.8267\n",
      "Epoch 64/100\n",
      "8000/8000 [==============================] - 3s 375us/step - loss: 0.4263 - acc: 0.8304\n",
      "Epoch 65/100\n",
      "8000/8000 [==============================] - 3s 332us/step - loss: 0.4234 - acc: 0.8317\n",
      "Epoch 66/100\n",
      "8000/8000 [==============================] - 3s 354us/step - loss: 0.4256 - acc: 0.8280\n",
      "Epoch 67/100\n",
      "8000/8000 [==============================] - 3s 397us/step - loss: 0.4212 - acc: 0.8300\n",
      "Epoch 68/100\n",
      "8000/8000 [==============================] - 3s 399us/step - loss: 0.4258 - acc: 0.8294\n",
      "Epoch 69/100\n",
      "8000/8000 [==============================] - 3s 422us/step - loss: 0.4239 - acc: 0.8300\n",
      "Epoch 70/100\n",
      "8000/8000 [==============================] - 4s 487us/step - loss: 0.4217 - acc: 0.8317\n",
      "Epoch 71/100\n",
      "8000/8000 [==============================] - 4s 445us/step - loss: 0.4213 - acc: 0.8301\n",
      "Epoch 72/100\n",
      "8000/8000 [==============================] - 4s 487us/step - loss: 0.4211 - acc: 0.8291\n",
      "Epoch 73/100\n",
      "8000/8000 [==============================] - 3s 357us/step - loss: 0.4217 - acc: 0.8314\n",
      "Epoch 74/100\n",
      "8000/8000 [==============================] - 3s 378us/step - loss: 0.4228 - acc: 0.8301\n",
      "Epoch 75/100\n",
      "8000/8000 [==============================] - 3s 389us/step - loss: 0.4232 - acc: 0.8282\n",
      "Epoch 76/100\n",
      "8000/8000 [==============================] - 4s 487us/step - loss: 0.4263 - acc: 0.8294\n",
      "Epoch 77/100\n",
      "8000/8000 [==============================] - 5s 576us/step - loss: 0.4243 - acc: 0.8294\n",
      "Epoch 78/100\n",
      "8000/8000 [==============================] - 5s 575us/step - loss: 0.4239 - acc: 0.8304\n",
      "Epoch 79/100\n",
      "8000/8000 [==============================] - 5s 566us/step - loss: 0.4262 - acc: 0.8285\n",
      "Epoch 80/100\n",
      "8000/8000 [==============================] - 3s 435us/step - loss: 0.4228 - acc: 0.8309\n",
      "Epoch 81/100\n",
      "8000/8000 [==============================] - 3s 400us/step - loss: 0.4221 - acc: 0.8279\n"
     ]
    },
    {
     "name": "stdout",
     "output_type": "stream",
     "text": [
      "Epoch 82/100\n",
      "8000/8000 [==============================] - 3s 415us/step - loss: 0.4238 - acc: 0.8302\n",
      "Epoch 83/100\n",
      "8000/8000 [==============================] - 3s 341us/step - loss: 0.4246 - acc: 0.8304\n",
      "Epoch 84/100\n",
      "8000/8000 [==============================] - 3s 377us/step - loss: 0.4246 - acc: 0.8271\n",
      "Epoch 85/100\n",
      "8000/8000 [==============================] - 3s 362us/step - loss: 0.4256 - acc: 0.8274\n",
      "Epoch 86/100\n",
      "8000/8000 [==============================] - 3s 318us/step - loss: 0.4221 - acc: 0.8295\n",
      "Epoch 87/100\n",
      "8000/8000 [==============================] - 3s 341us/step - loss: 0.4233 - acc: 0.8311\n",
      "Epoch 88/100\n",
      "8000/8000 [==============================] - 3s 334us/step - loss: 0.4243 - acc: 0.8310\n",
      "Epoch 89/100\n",
      "8000/8000 [==============================] - 3s 317us/step - loss: 0.4231 - acc: 0.8316\n",
      "Epoch 90/100\n",
      "8000/8000 [==============================] - 3s 329us/step - loss: 0.4248 - acc: 0.8295\n",
      "Epoch 91/100\n",
      "8000/8000 [==============================] - 3s 324us/step - loss: 0.4252 - acc: 0.8297\n",
      "Epoch 92/100\n",
      "8000/8000 [==============================] - 2s 311us/step - loss: 0.4238 - acc: 0.8299\n",
      "Epoch 93/100\n",
      "8000/8000 [==============================] - 3s 321us/step - loss: 0.4229 - acc: 0.8300\n",
      "Epoch 94/100\n",
      "8000/8000 [==============================] - 3s 363us/step - loss: 0.4266 - acc: 0.8287\n",
      "Epoch 95/100\n",
      "8000/8000 [==============================] - 3s 421us/step - loss: 0.4242 - acc: 0.8302\n",
      "Epoch 96/100\n",
      "8000/8000 [==============================] - 3s 393us/step - loss: 0.4250 - acc: 0.8292\n",
      "Epoch 97/100\n",
      "8000/8000 [==============================] - 3s 356us/step - loss: 0.4230 - acc: 0.8309\n",
      "Epoch 98/100\n",
      "8000/8000 [==============================] - 3s 352us/step - loss: 0.4230 - acc: 0.8320\n",
      "Epoch 99/100\n",
      "8000/8000 [==============================] - 3s 343us/step - loss: 0.4231 - acc: 0.8325\n",
      "Epoch 100/100\n",
      "8000/8000 [==============================] - 3s 361us/step - loss: 0.4234 - acc: 0.8317\n"
     ]
    },
    {
     "data": {
      "text/plain": [
       "<keras.callbacks.History at 0x1f5264e5a90>"
      ]
     },
     "execution_count": 17,
     "metadata": {},
     "output_type": "execute_result"
    }
   ],
   "source": [
    "# fitting data into DNN\n",
    "classifier.fit(X_train,Y_train,batch_size=10,epochs=100)"
   ]
  },
  {
   "cell_type": "code",
   "execution_count": 18,
   "metadata": {
    "collapsed": true
   },
   "outputs": [],
   "source": [
    "# predicting on test set\n",
    "y_pred=classifier.predict(X_test)\n",
    "y_pred=(y_pred>0.5)"
   ]
  },
  {
   "cell_type": "code",
   "execution_count": 19,
   "metadata": {},
   "outputs": [
    {
     "name": "stdout",
     "output_type": "stream",
     "text": [
      "[[False]\n",
      " [False]\n",
      " [False]\n",
      " [False]\n",
      " [False]\n",
      " [ True]\n",
      " [False]\n",
      " [False]\n",
      " [False]\n",
      " [ True]\n",
      " [False]\n",
      " [False]\n",
      " [False]\n",
      " [False]\n",
      " [ True]\n",
      " [False]\n",
      " [False]\n",
      " [False]\n",
      " [False]\n",
      " [False]]\n"
     ]
    }
   ],
   "source": [
    "print(y_pred[:20])"
   ]
  },
  {
   "cell_type": "code",
   "execution_count": 20,
   "metadata": {
    "collapsed": true
   },
   "outputs": [],
   "source": [
    "# Making confusion_matrix\n",
    "from sklearn.metrics import confusion_matrix\n",
    "cf=confusion_matrix(Y_test,y_pred)"
   ]
  },
  {
   "cell_type": "code",
   "execution_count": 21,
   "metadata": {},
   "outputs": [
    {
     "name": "stdout",
     "output_type": "stream",
     "text": [
      "[[1560   35]\n",
      " [ 285  120]]\n"
     ]
    }
   ],
   "source": [
    "print(cf)"
   ]
  },
  {
   "cell_type": "code",
   "execution_count": 22,
   "metadata": {
    "collapsed": true
   },
   "outputs": [],
   "source": [
    "# calculating accuracy\n",
    "accuracy=(1547+148)/(1547+148+48+257)"
   ]
  },
  {
   "cell_type": "code",
   "execution_count": 23,
   "metadata": {},
   "outputs": [
    {
     "name": "stdout",
     "output_type": "stream",
     "text": [
      "0.8475\n"
     ]
    }
   ],
   "source": [
    "print(accuracy)"
   ]
  },
  {
   "cell_type": "markdown",
   "metadata": {},
   "source": [
    "# Part -3 Evaluating"
   ]
  },
  {
   "cell_type": "code",
   "execution_count": 24,
   "metadata": {
    "collapsed": true
   },
   "outputs": [],
   "source": [
    "# Evaluating model with k-fold cross validation \n",
    "from keras.wrappers.scikit_learn import KerasClassifier\n"
   ]
  },
  {
   "cell_type": "code",
   "execution_count": 25,
   "metadata": {
    "collapsed": true
   },
   "outputs": [],
   "source": [
    "# defining classifier\n",
    "def classifer():    \n",
    "    classifier=Sequential()\n",
    "    classifier.add(Dense(units=6,kernel_initializer='uniform',activation='relu',input_dim=11))\n",
    "    classifier.add(Dense(units=6,kernel_initializer='uniform',activation='relu'))\n",
    "    classifier.add(Dense(units=1,kernel_initializer='uniform',activation='sigmoid'))\n",
    "    classifier.compile(optimizer='adam',loss='binary_crossentropy',metrics=['accuracy'])\n",
    "    return classifier"
   ]
  },
  {
   "cell_type": "code",
   "execution_count": null,
   "metadata": {},
   "outputs": [],
   "source": [
    "classifier=KerasClassifier(build_fn=classifer,batch_size=10,epochs=100)"
   ]
  },
  {
   "cell_type": "code",
   "execution_count": null,
   "metadata": {},
   "outputs": [],
   "source": [
    "from sklearn.model_selection import cross_val_score\n",
    "accuracy_list=cross_val_score(estimator=classifier,X=X_train,y=Y_train,cv=10,n_jobs=-1)"
   ]
  },
  {
   "cell_type": "code",
   "execution_count": null,
   "metadata": {
    "collapsed": true
   },
   "outputs": [],
   "source": [
    "# checking variance \n",
    "print(accuracy_list.mean)\n",
    "print(accuracy_list.std)"
   ]
  },
  {
   "cell_type": "code",
   "execution_count": null,
   "metadata": {
    "collapsed": true
   },
   "outputs": [],
   "source": [
    "def classifer(optimizer):    \n",
    "    classifier=Sequential()\n",
    "    classifier.add(Dense(units=6,kernel_initializer='uniform',activation='relu',input_dim=11))\n",
    "    classifier.add(Dense(units=6,kernel_initializer='uniform',activation='relu'))\n",
    "    classifier.add(Dense(units=1,kernel_initializer='uniform',activation='sigmoid'))\n",
    "    classifier.compile(optimizer=optimizer,loss='binary_crossentropy',metrics=['accuracy'])\n",
    "    return classifier"
   ]
  },
  {
   "cell_type": "code",
   "execution_count": null,
   "metadata": {
    "collapsed": true
   },
   "outputs": [],
   "source": [
    "from sklearn.model_selection import GridSearchCV"
   ]
  },
  {
   "cell_type": "code",
   "execution_count": null,
   "metadata": {
    "collapsed": true
   },
   "outputs": [],
   "source": [
    "classifier=KerasClassifier(build_fn=classifer)"
   ]
  },
  {
   "cell_type": "code",
   "execution_count": null,
   "metadata": {
    "collapsed": true
   },
   "outputs": [],
   "source": [
    "parameters={'batch_size':[25,35,45,55],'epochs':[100,200,50,10],'optimizer':['adam','rmsprop']}"
   ]
  },
  {
   "cell_type": "code",
   "execution_count": null,
   "metadata": {
    "collapsed": true
   },
   "outputs": [],
   "source": [
    "grid_search=GridSearhCV(estimator=classifier,param_grid=parameters,scoring='accuracy',cv=10)"
   ]
  },
  {
   "cell_type": "code",
   "execution_count": null,
   "metadata": {
    "collapsed": true
   },
   "outputs": [],
   "source": [
    "grid_search=grid_search.fit(X_train,Y_train)"
   ]
  },
  {
   "cell_type": "code",
   "execution_count": null,
   "metadata": {
    "collapsed": true
   },
   "outputs": [],
   "source": [
    "best_parameters=grid_search.best_params_\n",
    "best_accuracy=grid_search.best_score_"
   ]
  },
  {
   "cell_type": "code",
   "execution_count": null,
   "metadata": {
    "collapsed": true
   },
   "outputs": [],
   "source": [
    "print(best_parameters)\n",
    "print(best_acc)"
   ]
  },
  {
   "cell_type": "code",
   "execution_count": null,
   "metadata": {
    "collapsed": true
   },
   "outputs": [],
   "source": []
  }
 ],
 "metadata": {
  "kernelspec": {
   "display_name": "Python 3",
   "language": "python",
   "name": "python3"
  },
  "language_info": {
   "codemirror_mode": {
    "name": "ipython",
    "version": 3
   },
   "file_extension": ".py",
   "mimetype": "text/x-python",
   "name": "python",
   "nbconvert_exporter": "python",
   "pygments_lexer": "ipython3",
   "version": "3.6.3"
  }
 },
 "nbformat": 4,
 "nbformat_minor": 2
}
